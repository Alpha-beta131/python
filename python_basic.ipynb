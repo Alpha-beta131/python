{
  "nbformat": 4,
  "nbformat_minor": 0,
  "metadata": {
    "colab": {
      "provenance": []
    },
    "kernelspec": {
      "name": "python3",
      "display_name": "Python 3"
    },
    "language_info": {
      "name": "python"
    }
  },
  "cells": [
    {
      "cell_type": "markdown",
      "source": [
        "\n",
        "\n",
        "> Add blockquote\n",
        "\n"
      ],
      "metadata": {
        "id": "ULQC87ZiVICo"
      }
    },
    {
      "cell_type": "markdown",
      "source": [
        "#Python basic"
      ],
      "metadata": {
        "id": "w5LAz2KQV0vE"
      }
    },
    {
      "cell_type": "code",
      "source": [],
      "metadata": {
        "id": "d6rwyJBvV3qx"
      },
      "execution_count": null,
      "outputs": []
    },
    {
      "cell_type": "markdown",
      "source": [
        "1. what is python? why  it is popular ?\n",
        " -> Python is a popular programming language for many reasons, including:\n",
        "Ease of learning-\n",
        "Python is easy to learn and understand because of its English syntax.\n",
        "Versatility-\n",
        "Python is a general-purpose language that can be used for many applications, including:\n",
        "Web development\n",
        "Data analysis\n",
        "Artificial intelligence (AI)\n",
        "Machine learning\n",
        "Search engine optimization (SEO)\n",
        "Blockchain\n",
        "Game development\n",
        "Automation\n",
        "Large community\n",
        "Python has a large community of developers who contribute to open-source libraries.\n",
        "Job opportunities\n",
        "There are many job opportunities for Python professionals across different industries and roles.\n",
        "Demand\n",
        "The demand for skilled Python professionals is increasing due to the rise of AI and machine learning, and the increasing complexity of web applications and websites.\n"
      ],
      "metadata": {
        "id": "8o_ByuenW4n8"
      }
    },
    {
      "cell_type": "markdown",
      "source": [],
      "metadata": {
        "id": "DcD84efrXXcf"
      }
    },
    {
      "cell_type": "code",
      "source": [],
      "metadata": {
        "id": "sZeCQlt_VmU4"
      },
      "execution_count": null,
      "outputs": []
    },
    {
      "cell_type": "markdown",
      "source": [
        "2. what is an interpreter in python ?\n",
        " ->A Python interpreter is a computer program that translates Python code into machine-readable instructions and executes them line by line. This process is called interpretation.\n",
        " Here are some examples of how a Python interpreter works:\n",
        "Printing a message-\n",
        "When you run the Python code print(\"Hello, World!\"), the interpreter processes the print() function call and immediately displays \"Hello, World!\" in the console.\n",
        "Interactive mode-\n",
        "When you read commands from a terminal, the interpreter is in interactive mode. It prompts for the next command with three greater-than signs (>>>).\n",
        "Error handling\n",
        "If there are any errors in the code, the interpreter will stop executing and display an error message."
      ],
      "metadata": {
        "id": "-Zkup5dlaAXe"
      }
    },
    {
      "cell_type": "code",
      "source": [],
      "metadata": {
        "id": "30h_nqBtVZ0T"
      },
      "execution_count": null,
      "outputs": []
    },
    {
      "cell_type": "markdown",
      "source": [
        "3.What are pre-defined keywords in Python?\n",
        " ->A keyword refers to a predefined word that python reserves for working programs that have a specific meaning, You can't use a keyword anywhere else. Python Identifiers are the different values that a programmer can use to define various variables, integers, functions, and classes.\n",
        " Lambda: Used to create inline returning functions that do not allow statements internally\n",
        "Def: Used to define a function by placing it before the user-defined function name\n",
        "Else: Used in conjunction with if, this is one of the most frequently used components in Python programs\n",
        "Assert: Used to insert debugging assertions into a program by testing a condition and triggering an error if the condition is false\n",
        "Yield: Used to end a function and return a generator\n",
        "Break: A reserved keyword that cannot be used to name variables\n",
        "Here are some rules for using Python keywords:\n",
        "Keywords are case-sensitive, except for True and False\n",
        "Keywords cannot be used as identifiers, such as variable names, function names, or any other custom identifiers\n",
        "The number of keywords can vary with Python versions\n",
        "Some words can be treated as keywords in special contexts but can also be used as identifiers"
      ],
      "metadata": {
        "id": "t_36PaJncegy"
      }
    },
    {
      "cell_type": "markdown",
      "source": [
        "4.can keywords be used as variable names ?\n",
        " -> No, keywords cannot be used as variable names because they define the syntax and structure of a programming language. Keywords are reserved words, so they cannot be used as identifiers for other purposes, such as variable names."
      ],
      "metadata": {
        "id": "IK1I5jGGhimE"
      }
    },
    {
      "cell_type": "markdown",
      "source": [
        "5.what is mutability in python ?\n",
        " -> In Python, mutability refers to the ability to change an object's value or state after it has been created:\n",
        "Examples\n",
        "Lists, dictionaries, and sets are all mutable objects in Python.\n"
      ],
      "metadata": {
        "id": "7ty9FsCbiPJZ"
      }
    },
    {
      "cell_type": "code",
      "source": [],
      "metadata": {
        "id": "H8IvrXlPjGMf"
      },
      "execution_count": null,
      "outputs": []
    },
    {
      "cell_type": "markdown",
      "source": [
        "6.Why are lists mutable, but tuples are immutable?\n",
        " -> Tuples and lists are the same in every way except two: tuples use parentheses instead of square brackets, and the items in tuples cannot be modified (but the items in lists can be modified). We often call lists mutable (meaning they can be changed) and tuples immutable (meaning they cannot be changed)."
      ],
      "metadata": {
        "id": "tc8F5V1ljMvS"
      }
    },
    {
      "cell_type": "code",
      "source": [],
      "metadata": {
        "id": "sz_3_1EhjtAh"
      },
      "execution_count": null,
      "outputs": []
    },
    {
      "cell_type": "markdown",
      "source": [
        "7. What is the difference between “==” and “is” operators in Python?\n",
        " -> The main difference between the == and is operators in Python is that == compares the equality of objects, while is compares the identity of objects."
      ],
      "metadata": {
        "id": "zGxUGJ5vjuzd"
      }
    },
    {
      "cell_type": "code",
      "source": [],
      "metadata": {
        "id": "d2wQADcnkqeR"
      },
      "execution_count": null,
      "outputs": []
    },
    {
      "cell_type": "markdown",
      "source": [
        " 8.What are logical operators in Python?\n",
        "  -> Logical operators in Python are keywords that evaluate multiple conditions in a single expression. They are used to create conditional statements, make decisions, and perform logical comparisons. The three logical operators in Python are:\n",
        "and: Returns True if both conditions are true\n",
        "or: Returns True if either condition is true\n",
        "not: Reverses the truth value of a condition\n",
        "Logical operators are also known as Boolean operators because they automatically convert operands to a Boolean value.\n",
        "Here are some examples of logical operators in Python:\n",
        "and\n",
        "In the example temperature = 25 is_sunny = True if temperature > 20 and is_sunny: print(\"It's a perfect day for a picnic!\"), the and operator ensures that the message is only printed if both conditions are met.\n",
        "or\n",
        "In the example if is_sunny or has_umbrella: print(\"Let's go for a walk!\"), the or operator will print the message if either it's sunny or we have an umbrella.\n",
        "not\n",
        "In the example if not is_sunny: print(\"Maybe we should stay indoors.\"), the not operator will print the message if it is not sunny.\n"
      ],
      "metadata": {
        "id": "gVd9IH3WkuWG"
      }
    },
    {
      "cell_type": "code",
      "source": [],
      "metadata": {
        "id": "oW3TsfnkiGq5"
      },
      "execution_count": null,
      "outputs": []
    },
    {
      "cell_type": "markdown",
      "source": [
        "9.what is typecasting in python ?\n",
        " -> Type casting in Python is the process of changing a variable's data type from one to another. It's also known as type conversion.\n",
        "There are two types of type casting in Python:\n",
        "Explicit type casting\n",
        "Uses predefined functions like int(), float(), and str() to convert an object's data type. The syntax for explicit type casting is <required_datatype>(expression).\n",
        "Implicit type casting\n",
        "A variable's data type can be converted when certain operations are performed on it, such as arithmetic expressions.\n",
        "Some examples of type casting in Python include: Converting an integer to a float, Converting a string to an integer, Converting a float to a boolean, and Converting a boolean to a string."
      ],
      "metadata": {
        "id": "-z0AH95JnnPP"
      }
    },
    {
      "cell_type": "code",
      "source": [],
      "metadata": {
        "id": "VTlvR3XjrCgx"
      },
      "execution_count": null,
      "outputs": []
    },
    {
      "cell_type": "markdown",
      "source": [
        "10.What is the difference between implicit and explicit type casting?\n",
        "  -> The main difference between implicit and explicit type casting is that implicit type casting happens automatically, while explicit type casting requires the programmer to manually define the conversion:\n",
        "  Implicit type casting\n",
        "Automatically converts a value from a smaller data type to a larger one. This is typically done to ensure compatibility and prevent data loss in mathematical operations. For example, in C#, a char can be implicitly converted to an int, then a long, and so on.\n",
        "Explicit type casting\n",
        "Requires the programmer to explicitly define the type conversion using a built-in function or method. This gives the programmer more control over the data conversion process, allowing them to manage data types precisely and prevent unintended data loss or errors."
      ],
      "metadata": {
        "id": "MPwRjU_Tovs4"
      }
    },
    {
      "cell_type": "code",
      "source": [],
      "metadata": {
        "id": "gTtbwcgarABG"
      },
      "execution_count": null,
      "outputs": []
    },
    {
      "cell_type": "code",
      "source": [],
      "metadata": {
        "id": "hCcvTqECppuV"
      },
      "execution_count": null,
      "outputs": []
    },
    {
      "cell_type": "markdown",
      "source": [
        "11.What is the purpose of conditional statements in Python?\n",
        "  -> The purpose of conditional statements in Python is to control the flow of a program by making decisions based on certain conditions:\n",
        "Efficiency: Conditional statements can make code more efficient by avoiding long and complicated blocks of code.\n",
        "Readability: Conditional statements can make code easier to read.\n",
        "Control flow: Conditional statements determine the direction of code execution based on the output of a given condition.\n",
        "Here are some examples of conditional statements in Python:\n",
        "If statement: Runs a section of code if the conditional is true.\n",
        "If-else statement: Can be used to separate even and odd numbers.\n",
        "Nested if statements: Can be used to check if a year is a leap year.\n",
        "Lambda if-else: Returns the if block when the condition is true, and the else block when the condition is false.\n",
        "Some operators used with conditional statements in Python include:\n",
        "Equals (==): Checks if a variable is equal to another variable\n",
        "Not equals (!=): Checks if a variable is not equal to another variable\n",
        "Greater than (>): Checks if a variable is greater than another variable\n",
        "Less than (<): Checks if a variable is less than another variable\n",
        "Greater than or equal to: Checks if a variable is greater than or equal to another variable"
      ],
      "metadata": {
        "id": "4u5-H9jkpsEG"
      }
    },
    {
      "cell_type": "code",
      "source": [],
      "metadata": {
        "id": "wGdcaN6YrS1v"
      },
      "execution_count": null,
      "outputs": []
    },
    {
      "cell_type": "markdown",
      "source": [
        "12.How does the elif statement work?\n",
        "  ->In Python, elif is short for \"else if\" and is used when the first if statement isn't true, but you want to check for another condition. Meaning, if statements pair up with elif and else statements to perform a series of checks.\n"
      ],
      "metadata": {
        "id": "tJptQf_PrU-B"
      }
    },
    {
      "cell_type": "code",
      "source": [],
      "metadata": {
        "id": "2Pv5fl1ir3xE"
      },
      "execution_count": null,
      "outputs": []
    },
    {
      "cell_type": "markdown",
      "source": [
        "13.What is the difference between for and while loops?\n",
        " -> For loop\n",
        "Used when you know how many times the loop will execute before it starts. For loops are best used to iterate over a sequence, such as a list, tuple, or string.\n",
        "While loop\n",
        "Used when you don't know how many times the loop will execute. While loops are best used when the loop should repeat until a condition is met."
      ],
      "metadata": {
        "id": "dAY8cZv5sC8t"
      }
    },
    {
      "cell_type": "code",
      "source": [],
      "metadata": {
        "id": "d92Yhs01s_91"
      },
      "execution_count": null,
      "outputs": []
    },
    {
      "cell_type": "markdown",
      "source": [
        "14.Describe a scenario where a while loop is more suitable than a for loop.\n",
        "  -> In contrast to a 'for' loop, which is generally used when the number of iterations is known beforehand, a 'while' loop is ideal for situations where the number of iterations is not predetermined and depends on some dynamic condition."
      ],
      "metadata": {
        "id": "vSSCwiKNtBCU"
      }
    },
    {
      "cell_type": "code",
      "source": [],
      "metadata": {
        "id": "Ud-zK6lftbKD"
      },
      "execution_count": null,
      "outputs": []
    },
    {
      "cell_type": "markdown",
      "source": [
        "1 Write a Python program to print \"Hello, World!"
      ],
      "metadata": {
        "id": "ftvkZ6ihvq9P"
      }
    },
    {
      "cell_type": "code",
      "source": [
        "print(\"Hello,World\")"
      ],
      "metadata": {
        "colab": {
          "base_uri": "https://localhost:8080/"
        },
        "id": "Ati0c0U8wDWk",
        "outputId": "412eea6e-c1c8-4853-b6c1-725b48cd84ee"
      },
      "execution_count": 4,
      "outputs": [
        {
          "output_type": "stream",
          "name": "stdout",
          "text": [
            "Hello,World\n"
          ]
        }
      ]
    },
    {
      "cell_type": "code",
      "source": [],
      "metadata": {
        "id": "91dBg60LwZSd"
      },
      "execution_count": null,
      "outputs": []
    },
    {
      "cell_type": "markdown",
      "source": [
        "2.Write a Python program that displays your name and age"
      ],
      "metadata": {
        "id": "46nK-hk7whUe"
      }
    },
    {
      "cell_type": "code",
      "source": [
        "print(\"name-tanushree sontakke\")\n",
        "print(\"age-20\")"
      ],
      "metadata": {
        "colab": {
          "base_uri": "https://localhost:8080/"
        },
        "id": "EvdOWY9bwqTw",
        "outputId": "ec4e725a-753f-4d8a-f147-3049cc995d51"
      },
      "execution_count": 5,
      "outputs": [
        {
          "output_type": "stream",
          "name": "stdout",
          "text": [
            "name-tanushree sontakke\n",
            "age-20\n"
          ]
        }
      ]
    },
    {
      "cell_type": "code",
      "source": [],
      "metadata": {
        "id": "yWAWQ6IJxhmY"
      },
      "execution_count": null,
      "outputs": []
    },
    {
      "cell_type": "markdown",
      "source": [
        "3.Write code to print all the pre-defined keywords in Python using the keyword library"
      ],
      "metadata": {
        "id": "FMucCWKWxqlU"
      }
    },
    {
      "cell_type": "code",
      "source": [
        "import keyword\n",
        "\n",
        "# Print all pre-defined keywords in Python\n",
        "print(\"Python Keywords:\")\n",
        "for kw in keyword.kwlist:\n",
        "    print(kw)\n"
      ],
      "metadata": {
        "colab": {
          "base_uri": "https://localhost:8080/"
        },
        "id": "_S7SOZDXybXD",
        "outputId": "bd40f5ec-565f-494f-bdf5-8f57676f0b62"
      },
      "execution_count": 6,
      "outputs": [
        {
          "output_type": "stream",
          "name": "stdout",
          "text": [
            "Python Keywords:\n",
            "False\n",
            "None\n",
            "True\n",
            "and\n",
            "as\n",
            "assert\n",
            "async\n",
            "await\n",
            "break\n",
            "class\n",
            "continue\n",
            "def\n",
            "del\n",
            "elif\n",
            "else\n",
            "except\n",
            "finally\n",
            "for\n",
            "from\n",
            "global\n",
            "if\n",
            "import\n",
            "in\n",
            "is\n",
            "lambda\n",
            "nonlocal\n",
            "not\n",
            "or\n",
            "pass\n",
            "raise\n",
            "return\n",
            "try\n",
            "while\n",
            "with\n",
            "yield\n"
          ]
        }
      ]
    },
    {
      "cell_type": "markdown",
      "source": [
        "4.Write a program that checks if a given word is a Python keyword."
      ],
      "metadata": {
        "id": "hHLVOYmdyh7w"
      }
    },
    {
      "cell_type": "code",
      "source": [
        "import keyword\n",
        "\n",
        "# Function to check if a word is a Python keyword\n",
        "def is_keyword(word):\n",
        "    if keyword.iskeyword(word):\n",
        "        return f\"'{word}' is a Python keyword.\"\n",
        "    else:\n",
        "        return f\"'{word}' is not a Python keyword.\"\n",
        "\n",
        "# Input from the user\n",
        "word = input(\"Enter a word to check: \")\n",
        "\n",
        "# Output result\n",
        "print(is_keyword(word))\n",
        "print(is_keyword(\"tanu\"))"
      ],
      "metadata": {
        "colab": {
          "base_uri": "https://localhost:8080/"
        },
        "id": "P0Xdfduw5t0o",
        "outputId": "2d269178-5b98-424a-9a57-aff29d0e9426"
      },
      "execution_count": 20,
      "outputs": [
        {
          "output_type": "stream",
          "name": "stdout",
          "text": [
            "Enter a word to check: def\n",
            "'def' is a Python keyword.\n",
            "'tanu' is not a Python keyword.\n"
          ]
        }
      ]
    },
    {
      "cell_type": "code",
      "source": [],
      "metadata": {
        "id": "RrP5wtBV6jIs"
      },
      "execution_count": 20,
      "outputs": []
    },
    {
      "cell_type": "markdown",
      "source": [
        "5. Create a list and tuple in Python, and demonstrate how attempting to change an element works differently for each."
      ],
      "metadata": {
        "id": "nvTCi1-C7A7S"
      }
    },
    {
      "cell_type": "code",
      "source": [
        "# Creating a list\n",
        "my_list = [1, 2, 3, 4]\n",
        "print(\"1,2,43,4,:\", my_list)\n",
        "\n",
        "# Modifying an element in the list\n",
        "my_list[2] = 10\n",
        "print(\"Modified List:\", my_list)\n",
        "\n",
        "# Creating a tuple\n",
        "my_tuple = (1, 2, 3, 4)\n",
        "print(\"\\nOriginal Tuple:\", my_tuple)\n",
        "\n",
        "# Attempting to modify an element in the tuple\n",
        "try:\n",
        "    my_tuple[2] = 10\n",
        "except TypeError as e:\n",
        "    print(\"Error when trying to modify a tuple:\", e)\n"
      ],
      "metadata": {
        "colab": {
          "base_uri": "https://localhost:8080/"
        },
        "id": "R3bKGloS6mKl",
        "outputId": "be5b0fcd-1731-4a53-e95a-8c29f8c9dfc4"
      },
      "execution_count": 21,
      "outputs": [
        {
          "output_type": "stream",
          "name": "stdout",
          "text": [
            "1,2,43,4,: [1, 2, 3, 4]\n",
            "Modified List: [1, 2, 10, 4]\n",
            "\n",
            "Original Tuple: (1, 2, 3, 4)\n",
            "Error when trying to modify a tuple: 'tuple' object does not support item assignment\n"
          ]
        }
      ]
    },
    {
      "cell_type": "markdown",
      "source": [
        "6.Write a function to demonstrate the behavior of mutable and immutable arguments."
      ],
      "metadata": {
        "id": "_Z3p5rAh81vw"
      }
    },
    {
      "cell_type": "code",
      "source": [
        "def modify_arguments(mutable_arg, immutable_arg):\n",
        "    # Modify the mutable argument (list)\n",
        "    mutable_arg.append(100)\n",
        "    print(\"Inside function, after modifying mutable_arg:\", mutable_arg)\n",
        "\n",
        "    # Attempt to modify the immutable argument (integer)\n",
        "    immutable_arg += 10\n",
        "    print(\"Inside function, after modifying immutable_arg:\", immutable_arg)\n",
        "\n",
        "\n",
        "# Test the function\n",
        "mutable = [1, 2, 3]  # List is mutable\n",
        "immutable = 50        # Integer is immutable\n",
        "\n",
        "print(\"Before function call:\")\n",
        "print(\"mutable:\", mutable)\n",
        "print(\"immutable:\", immutable)\n",
        "\n",
        "modify_arguments(mutable, immutable)\n",
        "\n",
        "print(\"\\nAfter function call:\")\n",
        "print(\"mutable:\", mutable)\n",
        "print(\"immutable:\", immutable)\n"
      ],
      "metadata": {
        "colab": {
          "base_uri": "https://localhost:8080/"
        },
        "id": "EWcJEU_iBk2X",
        "outputId": "78bb0c6c-c061-47aa-a9e2-58bf0bf4be56"
      },
      "execution_count": 28,
      "outputs": [
        {
          "output_type": "stream",
          "name": "stdout",
          "text": [
            "Before function call:\n",
            "mutable: [1, 2, 3]\n",
            "immutable: 50\n",
            "Inside function, after modifying mutable_arg: [1, 2, 3, 100]\n",
            "Inside function, after modifying immutable_arg: 60\n",
            "\n",
            "After function call:\n",
            "mutable: [1, 2, 3, 100]\n",
            "immutable: 50\n"
          ]
        }
      ]
    },
    {
      "cell_type": "code",
      "source": [],
      "metadata": {
        "id": "h-s5nKn5GBEE"
      },
      "execution_count": null,
      "outputs": []
    },
    {
      "cell_type": "markdown",
      "source": [
        "7.Write a Python program to convert user input from string to integer, float, and boolean types"
      ],
      "metadata": {
        "id": "I-3CjFd-GfAY"
      }
    },
    {
      "cell_type": "code",
      "source": [
        "def convert_user_input():\n",
        "    # Input from the user\n",
        "    user_input = input(\"Enter a value: \")\n",
        "\n",
        "    print(\"\\nConverted Values:\")\n",
        "\n",
        "    # Convert to integer\n",
        "    try:\n",
        "        int_value = int(user_input)\n",
        "        print(f\"Integer: {int_value}\")\n",
        "    except ValueError:\n",
        "        print(\"Cannot convert to Integer\")\n",
        "\n",
        "    # Convert to float\n",
        "    try:\n",
        "        float_value = float(user_input)\n",
        "        print(f\"Float: {float_value}\")\n",
        "    except ValueError:\n",
        "        print(\"Cannot convert to Float\")\n",
        "\n",
        "    # Convert to boolean\n",
        "    bool_value = bool(user_input.strip())  # Convert to boolean (non-empty strings are True)\n",
        "    print(f\"Boolean: {bool_value}\")\n",
        "\n",
        "# Call the function\n",
        "convert_user_input()\n"
      ],
      "metadata": {
        "colab": {
          "base_uri": "https://localhost:8080/"
        },
        "id": "_s_2tC2zz8UY",
        "outputId": "03f9ac4a-b31e-49d5-a13c-5df42028f9f8"
      },
      "execution_count": 56,
      "outputs": [
        {
          "output_type": "stream",
          "name": "stdout",
          "text": [
            "Enter a value: 42\n",
            "\n",
            "Converted Values:\n",
            "Integer: 42\n",
            "Float: 42.0\n",
            "Boolean: True\n"
          ]
        }
      ]
    },
    {
      "cell_type": "code",
      "source": [
        "def convert_user_input():\n",
        "    # Input from the user\n",
        "    user_input = input(\"Enter a value: \")\n",
        "\n",
        "    print(\"\\nConverted Values:\")\n",
        "\n",
        "    # Convert to integer\n",
        "    try:\n",
        "        int_value = int(user_input)\n",
        "        print(f\"Integer: {int_value}\")\n",
        "    except ValueError:\n",
        "        print(\"Cannot convert to Integer\")\n",
        "\n",
        "    # Convert to float\n",
        "    try:\n",
        "        float_value = float(user_input)\n",
        "        print(f\"Float: {float_value}\")\n",
        "    except ValueError:\n",
        "        print(\"Cannot convert to Float\")\n",
        "\n",
        "    # Convert to boolean\n",
        "    bool_value = bool(user_input.strip())  # Convert to boolean (non-empty strings are True)\n",
        "    print(f\"Boolean: {bool_value}\")\n",
        "\n",
        "# Call the function\n",
        "convert_user_input()"
      ],
      "metadata": {
        "colab": {
          "base_uri": "https://localhost:8080/"
        },
        "id": "-1ofpC7V0LwA",
        "outputId": "71f2cd53-2189-45a0-a4bd-198a8cd48562"
      },
      "execution_count": 57,
      "outputs": [
        {
          "output_type": "stream",
          "name": "stdout",
          "text": [
            "Enter a value: 3.14\n",
            "\n",
            "Converted Values:\n",
            "Cannot convert to Integer\n",
            "Float: 3.14\n",
            "Boolean: True\n"
          ]
        }
      ]
    },
    {
      "cell_type": "code",
      "source": [
        "def convert_user_input():\n",
        "    # Input from the user\n",
        "    user_input = input(\"Enter a value: \")\n",
        "\n",
        "    print(\"\\nConverted Values:\")\n",
        "\n",
        "    # Convert to integer\n",
        "    try:\n",
        "        int_value = int(user_input)\n",
        "        print(f\"Integer: {int_value}\")\n",
        "    except ValueError:\n",
        "        print(\"Cannot convert to Integer\")\n",
        "\n",
        "    # Convert to float\n",
        "    try:\n",
        "        float_value = float(user_input)\n",
        "        print(f\"Float: {float_value}\")\n",
        "    except ValueError:\n",
        "        print(\"Cannot convert to Float\")\n",
        "\n",
        "    # Convert to boolean\n",
        "    bool_value = bool(user_input.strip())  # Convert to boolean (non-empty strings are True)\n",
        "    print(f\"Boolean: {bool_value}\")\n",
        "\n",
        "# Call the function\n",
        "convert_user_input()\n"
      ],
      "metadata": {
        "colab": {
          "base_uri": "https://localhost:8080/"
        },
        "id": "_itBzlDo1OM4",
        "outputId": "e50aebe6-207c-47df-e048-285d0dc4332c"
      },
      "execution_count": 59,
      "outputs": [
        {
          "output_type": "stream",
          "name": "stdout",
          "text": [
            "Enter a value: \n",
            "\n",
            "Converted Values:\n",
            "Cannot convert to Integer\n",
            "Cannot convert to Float\n",
            "Boolean: False\n"
          ]
        }
      ]
    },
    {
      "cell_type": "code",
      "source": [],
      "metadata": {
        "id": "VHGJHqv71fhD"
      },
      "execution_count": 59,
      "outputs": []
    },
    {
      "cell_type": "markdown",
      "source": [
        "10.Write code to demonstrate type casting with list elements."
      ],
      "metadata": {
        "id": "gzf76BB816EH"
      }
    },
    {
      "cell_type": "code",
      "source": [
        "def demonstrate_type_casting():\n",
        "    # Initial list with mixed data types as strings\n",
        "    data = [\"10\", \"20.5\", \"True\", \"False\", \"100\"]\n",
        "    print(\"Original List:\", data)\n",
        "\n",
        "    # Cast elements to different types\n",
        "    casted_list = []\n",
        "\n",
        "    for item in data:\n",
        "        # Try converting to an integer\n",
        "        try:\n",
        "            int_value = int(float(item))  # Use float conversion first for numeric strings with decimals\n",
        "            casted_list.append(int_value)\n",
        "            print(f\"Converted '{item}' to Integer: {int_value}\")\n",
        "        except ValueError:\n",
        "            pass\n",
        "\n",
        "        # Try converting to a float\n",
        "        try:\n",
        "            float_value = float(item)\n",
        "            casted_list.append(float_value)\n",
        "            print(f\"Converted '{item}' to Float: {float_value}\")\n",
        "        except ValueError:\n",
        "            pass\n",
        "\n",
        "        # Try converting to a boolean\n",
        "        try:\n",
        "            bool_value = bool(eval(item.capitalize()))\n",
        "            casted_list.append(bool_value)\n",
        "            print(f\"Converted '{item}' to Boolean: {bool_value}\")\n",
        "        except (ValueError, SyntaxError):\n",
        "            pass\n",
        "\n",
        "    print(\"\\nCasted List:\", casted_list)\n",
        "\n",
        "\n",
        "# Call the function\n",
        "demonstrate_type_casting()\n"
      ],
      "metadata": {
        "colab": {
          "base_uri": "https://localhost:8080/"
        },
        "id": "KhiWGM1I19hg",
        "outputId": "6650f3fa-916a-4cf1-aa14-0d2a867e553d"
      },
      "execution_count": 60,
      "outputs": [
        {
          "output_type": "stream",
          "name": "stdout",
          "text": [
            "Original List: ['10', '20.5', 'True', 'False', '100']\n",
            "Converted '10' to Integer: 10\n",
            "Converted '10' to Float: 10.0\n",
            "Converted '10' to Boolean: True\n",
            "Converted '20.5' to Integer: 20\n",
            "Converted '20.5' to Float: 20.5\n",
            "Converted '20.5' to Boolean: True\n",
            "Converted 'True' to Boolean: True\n",
            "Converted 'False' to Boolean: False\n",
            "Converted '100' to Integer: 100\n",
            "Converted '100' to Float: 100.0\n",
            "Converted '100' to Boolean: True\n",
            "\n",
            "Casted List: [10, 10.0, True, 20, 20.5, True, True, False, 100, 100.0, True]\n"
          ]
        }
      ]
    },
    {
      "cell_type": "code",
      "source": [],
      "metadata": {
        "id": "Xm8Z7WAx2Pmh"
      },
      "execution_count": null,
      "outputs": []
    },
    {
      "cell_type": "markdown",
      "source": [
        "11.Write a program that checks if a number is positive, negative, or zero.\n"
      ],
      "metadata": {
        "id": "YkIMutz42dNV"
      }
    },
    {
      "cell_type": "code",
      "source": [
        "def check_number_sign():\n",
        "    # Input from the user\n",
        "    try:\n",
        "        number = float(input(\"Enter a number: \"))\n",
        "\n",
        "        # Check if the number is positive, negative, or zero\n",
        "        if number > 0:\n",
        "            print(f\"The number {number} is positive.\")\n",
        "        elif number < 0:\n",
        "            print(f\"The number {number} is negative.\")\n",
        "        else:\n",
        "            print(\"The number is zero.\")\n",
        "    except ValueError:\n",
        "        print(\"Invalid input! Please enter a valid number.\")\n",
        "\n",
        "# Call the function\n",
        "check_number_sign()\n"
      ],
      "metadata": {
        "colab": {
          "base_uri": "https://localhost:8080/"
        },
        "id": "k9XDGu4d2hyw",
        "outputId": "5304591e-af66-4221-8500-9bf573304468"
      },
      "execution_count": 61,
      "outputs": [
        {
          "output_type": "stream",
          "name": "stdout",
          "text": [
            "Enter a number: 15\n",
            "The number 15.0 is positive.\n"
          ]
        }
      ]
    },
    {
      "cell_type": "code",
      "source": [
        "def check_number_sign():\n",
        "    # Input from the user\n",
        "    try:\n",
        "        number = float(input(\"Enter a number: \"))\n",
        "\n",
        "        # Check if the number is positive, negative, or zero\n",
        "        if number > 0:\n",
        "            print(f\"The number {number} is positive.\")\n",
        "        elif number < 0:\n",
        "            print(f\"The number {number} is negative.\")\n",
        "        else:\n",
        "            print(\"The number is zero.\")\n",
        "    except ValueError:\n",
        "        print(\"Invalid input! Please enter a valid number.\")\n",
        "\n",
        "# Call the function\n",
        "check_number_sign()\n"
      ],
      "metadata": {
        "colab": {
          "base_uri": "https://localhost:8080/"
        },
        "id": "SDEERcGy27NT",
        "outputId": "bfd5b5c7-54fa-4ef2-ce94-1b888398197c"
      },
      "execution_count": 62,
      "outputs": [
        {
          "output_type": "stream",
          "name": "stdout",
          "text": [
            "Enter a number: -8.5\n",
            "The number -8.5 is negative.\n"
          ]
        }
      ]
    },
    {
      "cell_type": "code",
      "source": [
        "def check_number_sign():\n",
        "    # Input from the user\n",
        "    try:\n",
        "        number = float(input(\"Enter a number: \"))\n",
        "\n",
        "        # Check if the number is positive, negative, or zero\n",
        "        if number > 0:\n",
        "            print(f\"The number {number} is positive.\")\n",
        "        elif number < 0:\n",
        "            print(f\"The number {number} is negative.\")\n",
        "        else:\n",
        "            print(\"The number is zero.\")\n",
        "    except ValueError:\n",
        "        print(\"Invalid input! Please enter a valid number.\")\n",
        "\n",
        "# Call the function\n",
        "check_number_sign()\n"
      ],
      "metadata": {
        "colab": {
          "base_uri": "https://localhost:8080/"
        },
        "id": "24sD2HH83D8s",
        "outputId": "286605c8-4355-44b3-dea6-51228b786b13"
      },
      "execution_count": 63,
      "outputs": [
        {
          "output_type": "stream",
          "name": "stdout",
          "text": [
            "Enter a number: 0\n",
            "The number is zero.\n"
          ]
        }
      ]
    },
    {
      "cell_type": "code",
      "source": [],
      "metadata": {
        "id": "bUXPGXnb4O15"
      },
      "execution_count": null,
      "outputs": []
    },
    {
      "cell_type": "markdown",
      "source": [
        "12.0  Write a for loop to print numbers from 1 to 100"
      ],
      "metadata": {
        "id": "8-Ldr43i4T8B"
      }
    },
    {
      "cell_type": "code",
      "source": [
        "# Loop to print numbers from 1 to 100\n",
        "for number in range(1, 101):\n",
        "    print(number)\n",
        "\n"
      ],
      "metadata": {
        "colab": {
          "base_uri": "https://localhost:8080/"
        },
        "id": "MtbuAtvd5C6h",
        "outputId": "f2b8226f-91f7-43e8-b33e-5ade27944c92"
      },
      "execution_count": 64,
      "outputs": [
        {
          "output_type": "stream",
          "name": "stdout",
          "text": [
            "1\n",
            "2\n",
            "3\n",
            "4\n",
            "5\n",
            "6\n",
            "7\n",
            "8\n",
            "9\n",
            "10\n",
            "11\n",
            "12\n",
            "13\n",
            "14\n",
            "15\n",
            "16\n",
            "17\n",
            "18\n",
            "19\n",
            "20\n",
            "21\n",
            "22\n",
            "23\n",
            "24\n",
            "25\n",
            "26\n",
            "27\n",
            "28\n",
            "29\n",
            "30\n",
            "31\n",
            "32\n",
            "33\n",
            "34\n",
            "35\n",
            "36\n",
            "37\n",
            "38\n",
            "39\n",
            "40\n",
            "41\n",
            "42\n",
            "43\n",
            "44\n",
            "45\n",
            "46\n",
            "47\n",
            "48\n",
            "49\n",
            "50\n",
            "51\n",
            "52\n",
            "53\n",
            "54\n",
            "55\n",
            "56\n",
            "57\n",
            "58\n",
            "59\n",
            "60\n",
            "61\n",
            "62\n",
            "63\n",
            "64\n",
            "65\n",
            "66\n",
            "67\n",
            "68\n",
            "69\n",
            "70\n",
            "71\n",
            "72\n",
            "73\n",
            "74\n",
            "75\n",
            "76\n",
            "77\n",
            "78\n",
            "79\n",
            "80\n",
            "81\n",
            "82\n",
            "83\n",
            "84\n",
            "85\n",
            "86\n",
            "87\n",
            "88\n",
            "89\n",
            "90\n",
            "91\n",
            "92\n",
            "93\n",
            "94\n",
            "95\n",
            "96\n",
            "97\n",
            "98\n",
            "99\n",
            "100\n"
          ]
        }
      ]
    },
    {
      "cell_type": "code",
      "source": [],
      "metadata": {
        "id": "3F-qf3cY2xyU"
      },
      "execution_count": null,
      "outputs": []
    },
    {
      "cell_type": "markdown",
      "source": [
        "13.Write a Python program to find the sum of all even numbers between 1 and 50"
      ],
      "metadata": {
        "id": "vVfHOJzJ5mMQ"
      }
    },
    {
      "cell_type": "code",
      "source": [
        "# Initialize sum variable\n",
        "sum_even = 0\n",
        "\n",
        "# Loop through numbers from 1 to 50\n",
        "for number in range(1, 51):\n",
        "    # Check if the number is even\n",
        "    if number % 2 == 0:\n",
        "        sum_even += number\n",
        "\n",
        "# Print the result\n",
        "print(f\"The sum of all even numbers between 1 and 50 is: {sum_even}\")\n"
      ],
      "metadata": {
        "colab": {
          "base_uri": "https://localhost:8080/"
        },
        "id": "l9zEkixq5wIc",
        "outputId": "a32e5ad7-4049-4fe4-f097-de66a7b49cad"
      },
      "execution_count": 65,
      "outputs": [
        {
          "output_type": "stream",
          "name": "stdout",
          "text": [
            "The sum of all even numbers between 1 and 50 is: 650\n"
          ]
        }
      ]
    },
    {
      "cell_type": "code",
      "source": [],
      "metadata": {
        "id": "fuOKz1xQ597Z"
      },
      "execution_count": null,
      "outputs": []
    },
    {
      "cell_type": "markdown",
      "source": [
        "14.Write a program to reverse a string using a while loop"
      ],
      "metadata": {
        "id": "xkDaq6S4_rfp"
      }
    },
    {
      "cell_type": "code",
      "source": [
        "def reverse_string(input_string):\n",
        "    # Initialize variables\n",
        "    reversed_string = \"\"\n",
        "    index = len(input_string) - 1\n",
        "\n",
        "    # Use a while loop to reverse the string\n",
        "    while index >= 0:\n",
        "        reversed_string += input_string[index]\n",
        "        index -= 1\n",
        "\n",
        "    return reversed_string\n",
        "\n",
        "# Input from the user\n",
        "original_string = input(\"Enter a string to reverse: \")\n",
        "\n",
        "# Reverse the string and display the result\n",
        "reversed_result = reverse_string(original_string)\n",
        "print(f\"Reversed string: {reversed_result}\")\n"
      ],
      "metadata": {
        "colab": {
          "base_uri": "https://localhost:8080/"
        },
        "id": "K90MkVVn1g1A",
        "outputId": "0fc9b46b-7dff-48f6-d79a-c52d2648830f"
      },
      "execution_count": 66,
      "outputs": [
        {
          "output_type": "stream",
          "name": "stdout",
          "text": [
            "Enter a string to reverse: hello\n",
            "Reversed string: olleh\n"
          ]
        }
      ]
    },
    {
      "cell_type": "code",
      "source": [],
      "metadata": {
        "id": "QpPmFahTAIky"
      },
      "execution_count": 66,
      "outputs": []
    },
    {
      "cell_type": "markdown",
      "source": [
        "15.Write a Python program to calculate the factorial of a number provided by the user using a while loop."
      ],
      "metadata": {
        "id": "KkEaXN_YAefJ"
      }
    },
    {
      "cell_type": "code",
      "source": [
        "def calculate_factorial():\n",
        "    # Input from the user\n",
        "    try:\n",
        "        number = int(input(\"Enter a non-negative integer to calculate its factorial: \"))\n",
        "\n",
        "        if number < 0:\n",
        "            print(\"Factorial is not defined for negative numbers.\")\n",
        "            return\n",
        "\n",
        "        # Initialize variables\n",
        "        factorial = 1\n",
        "        i = number\n",
        "\n",
        "        # Calculate factorial using a while loop\n",
        "        while i > 0:\n",
        "            factorial *= i\n",
        "            i -= 1\n",
        "\n",
        "        print(f\"The factorial of {number} is: {factorial}\")\n",
        "    except ValueError:\n",
        "        print(\"Invalid input! Please enter a non-negative integer.\")\n",
        "\n",
        "# Call the function\n",
        "calculate_factorial()\n"
      ],
      "metadata": {
        "colab": {
          "base_uri": "https://localhost:8080/"
        },
        "id": "aV76stnmA-0z",
        "outputId": "20b5ee3f-ebdb-4fc8-c3f2-317ae827f2ec"
      },
      "execution_count": 67,
      "outputs": [
        {
          "output_type": "stream",
          "name": "stdout",
          "text": [
            "Enter a non-negative integer to calculate its factorial: 5\n",
            "The factorial of 5 is: 120\n"
          ]
        }
      ]
    },
    {
      "cell_type": "code",
      "source": [
        "def calculate_factorial():\n",
        "    # Input from the user\n",
        "    try:\n",
        "        number = int(input(\"Enter a non-negative integer to calculate its factorial: \"))\n",
        "\n",
        "        if number < 0:\n",
        "            print(\"Factorial is not defined for negative numbers.\")\n",
        "            return\n",
        "\n",
        "        # Initialize variables\n",
        "        factorial = 1\n",
        "        i = number\n",
        "\n",
        "        # Calculate factorial using a while loop\n",
        "        while i > 0:\n",
        "            factorial *= i\n",
        "            i -= 1\n",
        "\n",
        "        print(f\"The factorial of {number} is: {factorial}\")\n",
        "    except ValueError:\n",
        "        print(\"Invalid input! Please enter a non-negative integer.\")\n",
        "\n",
        "# Call the function\n",
        "calculate_factorial()\n"
      ],
      "metadata": {
        "colab": {
          "base_uri": "https://localhost:8080/"
        },
        "id": "iH9MJuSeBS8J",
        "outputId": "d5aeac19-b47d-4bb7-b785-12f75e1516c2"
      },
      "execution_count": 69,
      "outputs": [
        {
          "output_type": "stream",
          "name": "stdout",
          "text": [
            "Enter a non-negative integer to calculate its factorial: 0\n",
            "The factorial of 0 is: 1\n"
          ]
        }
      ]
    },
    {
      "cell_type": "code",
      "source": [
        "def calculate_factorial():\n",
        "    # Input from the user\n",
        "    try:\n",
        "        number = int(input(\"Enter a non-negative integer to calculate its factorial: \"))\n",
        "\n",
        "        if number < 0:\n",
        "            print(\"Factorial is not defined for negative numbers.\")\n",
        "            return\n",
        "\n",
        "        # Initialize variables\n",
        "        factorial = 1\n",
        "        i = number\n",
        "\n",
        "        # Calculate factorial using a while loop\n",
        "        while i > 0:\n",
        "            factorial *= i\n",
        "            i -= 1\n",
        "\n",
        "        print(f\"The factorial of {number} is: {factorial}\")\n",
        "    except ValueError:\n",
        "        print(\"Invalid input! Please enter a non-negative integer.\")\n",
        "\n",
        "# Call the function\n",
        "calculate_factorial()\n"
      ],
      "metadata": {
        "colab": {
          "base_uri": "https://localhost:8080/"
        },
        "id": "ZY47PsNdBZFG",
        "outputId": "467833d2-8e8b-44dc-c669-9ade6b0efdaa"
      },
      "execution_count": 70,
      "outputs": [
        {
          "output_type": "stream",
          "name": "stdout",
          "text": [
            "Enter a non-negative integer to calculate its factorial: -3\n",
            "Factorial is not defined for negative numbers.\n"
          ]
        }
      ]
    },
    {
      "cell_type": "code",
      "source": [],
      "metadata": {
        "id": "U_glIS05BiJu"
      },
      "execution_count": null,
      "outputs": []
    },
    {
      "cell_type": "code",
      "source": [],
      "metadata": {
        "id": "ZX2mlkxLBcn-"
      },
      "execution_count": null,
      "outputs": []
    },
    {
      "cell_type": "code",
      "source": [],
      "metadata": {
        "id": "lygjDue_Bad0"
      },
      "execution_count": null,
      "outputs": []
    },
    {
      "cell_type": "code",
      "source": [],
      "metadata": {
        "id": "SYkcSdxNBDps"
      },
      "execution_count": null,
      "outputs": []
    },
    {
      "cell_type": "code",
      "source": [],
      "metadata": {
        "id": "CwyvpDlTAU8b"
      },
      "execution_count": null,
      "outputs": []
    },
    {
      "cell_type": "code",
      "source": [],
      "metadata": {
        "id": "zFTv4cSe1RID"
      },
      "execution_count": null,
      "outputs": []
    },
    {
      "cell_type": "code",
      "source": [],
      "metadata": {
        "id": "dqj8_ANHzraE"
      },
      "execution_count": null,
      "outputs": []
    },
    {
      "cell_type": "code",
      "source": [],
      "metadata": {
        "id": "7s1s9e30zm9i"
      },
      "execution_count": null,
      "outputs": []
    },
    {
      "cell_type": "code",
      "source": [],
      "metadata": {
        "id": "O2nAQB16xtOw"
      },
      "execution_count": null,
      "outputs": []
    },
    {
      "cell_type": "code",
      "source": [],
      "metadata": {
        "id": "J77x1wro6LNU"
      },
      "execution_count": null,
      "outputs": []
    },
    {
      "cell_type": "code",
      "source": [],
      "metadata": {
        "id": "Glsv_UJz5Hh3"
      },
      "execution_count": 30,
      "outputs": []
    },
    {
      "cell_type": "code",
      "source": [],
      "metadata": {
        "id": "UuCGDLYaH1-7"
      },
      "execution_count": null,
      "outputs": []
    }
  ]
}